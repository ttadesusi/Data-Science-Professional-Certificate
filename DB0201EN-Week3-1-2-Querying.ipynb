{
    "cells": [
        {
            "cell_type": "markdown",
            "metadata": {},
            "source": "<center>\n    <img src=\"https://s3-api.us-geo.objectstorage.softlayer.net/cf-courses-data/CognitiveClass/Logos/organization_logo/organization_logo.png\" width=\"300\" alt=\"cognitiveclass.ai logo\"  />\n</center>\n\n# Access DB2 on Cloud using Python\n\nEstaimted time needed: **15** minutes\n\n## Objectives\n\nAfter complting this lab you will be able to:\n\n-   Create a table\n-   Insert data into the table\n-   Query data from the table\n-   Retrieve the result set into a pandas dataframe\n-   Close the database connection\n"
        },
        {
            "cell_type": "markdown",
            "metadata": {},
            "source": "**Notice:** Please follow the instructions given in the first Lab of this course to Create a database service instance of Db2 on Cloud.\n\n## Task 1: Import the `ibm_db` Python library\n\nThe `ibm_db` [API ](https://pypi.python.org/pypi/ibm_db?cm_mmc=Email_Newsletter-_-Developer_Ed%2BTech-_-WW_WW-_-SkillsNetwork-Courses-IBMDeveloperSkillsNetwork-DB0201EN-SkillsNetwork-20127838&cm_mmca1=000026UJ&cm_mmca2=10006555&cm_mmca3=M12345678&cvosrc=email.Newsletter.M12345678&cvo_campaign=000026UJ&cm_mmc=Email_Newsletter-_-Developer_Ed%2BTech-_-WW_WW-_-SkillsNetwork-Courses-IBMDeveloperSkillsNetwork-DB0201EN-SkillsNetwork-20127838&cm_mmca1=000026UJ&cm_mmca2=10006555&cm_mmca3=M12345678&cvosrc=email.Newsletter.M12345678&cvo_campaign=000026UJ&cm_mmc=Email_Newsletter-_-Developer_Ed%2BTech-_-WW_WW-_-SkillsNetwork-Courses-IBMDeveloperSkillsNetwork-DB0201EN-SkillsNetwork-20127838&cm_mmca1=000026UJ&cm_mmca2=10006555&cm_mmca3=M12345678&cvosrc=email.Newsletter.M12345678&cvo_campaign=000026UJ&cm_mmc=Email_Newsletter-_-Developer_Ed%2BTech-_-WW_WW-_-SkillsNetwork-Courses-IBMDeveloperSkillsNetwork-DB0201EN-SkillsNetwork-20127838&cm_mmca1=000026UJ&cm_mmca2=10006555&cm_mmca3=M12345678&cvosrc=email.Newsletter.M12345678&cvo_campaign=000026UJ) provides a variety of useful Python functions for accessing and manipulating data in an IBM\u00ae data server database, including functions for connecting to a database, preparing and issuing SQL statements, fetching rows from result sets, calling stored procedures, committing and rolling back transactions, handling errors, and retrieving metadata.\n\nWe import the ibm_db library into our Python Application\n"
        },
        {
            "cell_type": "code",
            "execution_count": 1,
            "metadata": {},
            "outputs": [],
            "source": "import ibm_db"
        },
        {
            "cell_type": "markdown",
            "metadata": {},
            "source": "When the command above completes, the `ibm_db` library is loaded in your notebook. \n\n## Task 2: Identify the database connection credentials\n\nConnecting to dashDB or DB2 database requires the following information:\n\n-   Driver Name\n-   Database name \n-   Host DNS name or IP address \n-   Host port\n-   Connection protocol\n-   User ID\n-   User Password\n\n**Notice:** To obtain credentials please refer to the instructions given in the first Lab of this course\n\nNow enter your database credentials below\n\nReplace the placeholder values in angular brackets &lt;> below with your actual database credentials \n\ne.g. replace \"database\" with \"BLUDB\"\n"
        },
        {
            "cell_type": "code",
            "execution_count": 2,
            "metadata": {},
            "outputs": [],
            "source": "#Replace the placeholder values with the actuals for your Db2 Service Credentials\n\ndsn_driver = \"{IBM DB2 ODBC DRIVER}\"\ndsn_database = \"database\"            # e.g. \"BLUDB\"\ndsn_hostname = \"hostname\"            # e.g.: \"dashdb-txn-sbox-yp-dal09-04.services.dal.bluemix.net\"\ndsn_port = \"port\"                    # e.g. \"50000\" \ndsn_protocol = \"protocol\"            # i.e. \"TCPIP\"\ndsn_uid = \"username\"                 # e.g. \"abc12345\"\ndsn_pwd = \"password\"                 # e.g. \"7dBZ3wWt9XN6$o0J\""
        },
        {
            "cell_type": "code",
            "execution_count": 3,
            "metadata": {},
            "outputs": [],
            "source": "# The code was removed by Watson Studio for sharing."
        },
        {
            "cell_type": "markdown",
            "metadata": {},
            "source": "## Task 3: Create the database connection\n\nIbm_db API uses the IBM Data Server Driver for ODBC and CLI APIs to connect to IBM DB2 and Informix.\n\nCreate the database connection\n"
        },
        {
            "cell_type": "code",
            "execution_count": 4,
            "metadata": {},
            "outputs": [
                {
                    "name": "stdout",
                    "output_type": "stream",
                    "text": "Connected to database:  BLUDB as user:  vfx46701 on host:  dashdb-txn-sbox-yp-dal09-08.services.dal.bluemix.net\n"
                }
            ],
            "source": "#Create database connection\n#DO NOT MODIFY THIS CELL. Just RUN it with Shift + Enter\ndsn = (\n    \"DRIVER={0};\"\n    \"DATABASE={1};\"\n    \"HOSTNAME={2};\"\n    \"PORT={3};\"\n    \"PROTOCOL={4};\"\n    \"UID={5};\"\n    \"PWD={6};\").format(dsn_driver, dsn_database, dsn_hostname, dsn_port, dsn_protocol, dsn_uid, dsn_pwd)\n\ntry:\n    conn = ibm_db.connect(dsn, \"\", \"\")\n    print (\"Connected to database: \", dsn_database, \"as user: \", dsn_uid, \"on host: \", dsn_hostname)\n\nexcept:\n    print (\"Unable to connect: \", ibm_db.conn_errormsg() )\n"
        },
        {
            "cell_type": "markdown",
            "metadata": {},
            "source": "## Task 4: Create a table in the database\n\nIn this step we will create a table in the database with following details:\n\n<img src = \"https://ibm.box.com/shared/static/ztd2cn4xkdoj5erlk4hhng39kbp63s1h.jpg\" align=\"center\">\n"
        },
        {
            "cell_type": "code",
            "execution_count": 5,
            "metadata": {},
            "outputs": [],
            "source": "#Lets first drop the table INSTRUCTOR in case it exists from a previous attempt\n\ndropQuery = \"drop table INSTRUCTOR\"\n\n#Now execute the drop statment\ndropStmt = ibm_db.exec_immediate(conn, dropQuery)"
        },
        {
            "cell_type": "markdown",
            "metadata": {},
            "source": "## Dont worry if you get this error:\n\nIf you see an exception/error similar to the following, indicating that INSTRUCTOR is an undefined name, that's okay. It just implies that the INSTRUCTOR table does not exist in the table - which would be the case if you had not created it previously.\n\nException: [IBM][CLI Driver][DB2/LINUXX8664] SQL0204N  \"ABC12345.INSTRUCTOR\" is an undefined name.  SQLSTATE=42704 SQLCODE=-204\n"
        },
        {
            "cell_type": "code",
            "execution_count": 6,
            "metadata": {},
            "outputs": [],
            "source": "#Construct the Create Table DDL statement - replace the ... with rest of the statement\ncreateQuery = \"create table INSTRUCTOR(id INTEGER PRIMARY KEY NOT NULL, fname VARCHAR(20), lname VARCHAR(20), city VARCHAR(20), ccode CHARACTER(2))\"\n\n#Now fill in the name of the method and execute the statement\n\ncreateStmt = ibm_db.exec_immediate(conn, createQuery)"
        },
        {
            "cell_type": "markdown",
            "metadata": {},
            "source": "Double-click **here** for the solution.\n\n<!-- Hint:\n\ncreateQuery = \"create table INSTRUCTOR(ID INTEGER PRIMARY KEY NOT NULL, FNAME VARCHAR(20), LNAME VARCHAR(20), CITY VARCHAR(20), CCODE CHAR(2))\"\n\ncreateStmt = ibm_db.exec_immediate(conn,createQuery)\n\n\n-->\n"
        },
        {
            "cell_type": "markdown",
            "metadata": {},
            "source": "## Task 5: Insert data into the table\n\nIn this step we will insert some rows of data into the table. \n\nThe INSTRUCTOR table we created in the previous step contains 3 rows of data:\n\n<img src=\"https://ibm.box.com/shared/static/j5yjassxefrjknivfpekj7698dqe4d8i.jpg\" align=\"center\">\n\nWe will start by inserting just the first row of data, i.e. for instructor Rav Ahuja \n"
        },
        {
            "cell_type": "code",
            "execution_count": 7,
            "metadata": {},
            "outputs": [],
            "source": "#Construct the query - replace ... with the insert statement\ninsertQuery = \"INSERT INTO INSTRUCTOR VALUES(1, 'Rav', 'Ahuja', 'Toronto', 'CA');)\" \n\n#execute the insert statement\ninsertStmt = ibm_db.exec_immediate(conn, insertQuery)"
        },
        {
            "cell_type": "markdown",
            "metadata": {},
            "source": "Double-click **here** for the solution.\n\n<!-- Hint:\n\ninsertQuery = \"insert into INSTRUCTOR values (1, 'Rav', 'Ahuja', 'TORONTO', 'CA')\"\n\ninsertStmt = ibm_db.exec_immediate(conn, insertQuery)\n\n\n-->\n"
        },
        {
            "cell_type": "markdown",
            "metadata": {},
            "source": "Now use a single query to insert the remaining two rows of data\n"
        },
        {
            "cell_type": "code",
            "execution_count": 8,
            "metadata": {},
            "outputs": [],
            "source": "#replace ... with the insert statement that inerts the remaining two rows of data\ninsertQuery2 = \"INSERT INTO INSTRUCTOR VALUES(2, 'Raul', 'Chong', 'Toronto', 'CA'), (3, 'Hima', 'Vasudevan', 'Chicago', 'US');)\"\n\n#execute the statement\ninsertStmt2 = ibm_db.exec_immediate(conn, insertQuery2)"
        },
        {
            "cell_type": "markdown",
            "metadata": {},
            "source": "Double-click **here** for the solution.\n\n<!-- Hint:\n\ninsertQuery2 = \"insert into INSTRUCTOR values (2, 'Raul', 'Chong', 'Markham', 'CA'), (3, 'Hima', 'Vasudevan', 'Chicago', 'US')\"\n\ninsertStmt2 = ibm_db.exec_immediate(conn, insertQuery2)\n\n\n-->\n"
        },
        {
            "cell_type": "markdown",
            "metadata": {},
            "source": "## Task 6: Query data in the table\n\nIn this step we will retrieve data we inserted into the INSTRUCTOR table. \n"
        },
        {
            "cell_type": "code",
            "execution_count": 9,
            "metadata": {},
            "outputs": [
                {
                    "data": {
                        "text/plain": "{'ID': 1,\n 0: 1,\n 'FNAME': 'Rav',\n 1: 'Rav',\n 'LNAME': 'Ahuja',\n 2: 'Ahuja',\n 'CITY': 'Toronto',\n 3: 'Toronto',\n 'CCODE': 'CA',\n 4: 'CA'}"
                    },
                    "execution_count": 9,
                    "metadata": {},
                    "output_type": "execute_result"
                }
            ],
            "source": "#Construct the query that retrieves all rows from the INSTRUCTOR table\nselectQuery = \"select * from INSTRUCTOR\"\n\n#Execute the statement\nselectStmt = ibm_db.exec_immediate(conn, selectQuery)\n\n#Fetch the Dictionary (for the first row only) - replace ... with your code\nibm_db.fetch_both(selectStmt)"
        },
        {
            "cell_type": "markdown",
            "metadata": {},
            "source": "Double-click **here** for the solution.\n\n<!-- Hint:\n\n#Construct the query that retrieves all rows from the INSTRUCTOR table\nselectQuery = \"select * from INSTRUCTOR\"\n\n#Execute the statement\nselectStmt = ibm_db.exec_immediate(conn, selectQuery)\n\n#Fetch the Dictionary (for the first row only)\nibm_db.fetch_both(selectStmt)\n\n-->\n"
        },
        {
            "cell_type": "code",
            "execution_count": 10,
            "metadata": {},
            "outputs": [
                {
                    "name": "stdout",
                    "output_type": "stream",
                    "text": " ID: 2  FNAME: Raul\n ID: 3  FNAME: Hima\n"
                }
            ],
            "source": "#Fetch the rest of the rows and print the ID and FNAME for those rows\nwhile ibm_db.fetch_row(selectStmt) != False:\n   print (\" ID:\",  ibm_db.result(selectStmt, 0), \" FNAME:\",  ibm_db.result(selectStmt, \"FNAME\"))"
        },
        {
            "cell_type": "markdown",
            "metadata": {},
            "source": "Double-click **here** for the solution.\n\n<!-- Hint:\n\n#Fetch the rest of the rows and print the ID and FNAME for those rows\nwhile ibm_db.fetch_row(selectStmt) != False:\n    print (\" ID:\",  ibm_db.result(selectStmt, 0), \" FNAME:\",  ibm_db.result(selectStmt, \"FNAME\"))\n\n-->\n"
        },
        {
            "cell_type": "markdown",
            "metadata": {},
            "source": "Bonus: now write and execute an update statement that changes the Rav's CITY to MOOSETOWN \n"
        },
        {
            "cell_type": "code",
            "execution_count": 11,
            "metadata": {},
            "outputs": [],
            "source": "#Enter your code below\n\nupdateQuery = \"UPDATE instructor SET city = 'Moosetown' WHERE fname = 'Rav'\"\n\n#Execute the statement\nupdateStmt = ibm_db.exec_immediate(conn, updateQuery)"
        },
        {
            "cell_type": "markdown",
            "metadata": {},
            "source": "Double-click **here** for the solution.\n\n<!-- Hint:\n\nupdateQuery = \"update INSTRUCTOR set CITY='MOOSETOWN' where FNAME='Rav'\"\nupdateStmt = ibm_db.exec_immediate(conn, updateQuery))\n\n-->\n"
        },
        {
            "cell_type": "markdown",
            "metadata": {},
            "source": "## Task 7: Retrieve data into Pandas\n\nIn this step we will retrieve the contents of the INSTRUCTOR table into a Pandas dataframe\n"
        },
        {
            "cell_type": "code",
            "execution_count": 12,
            "metadata": {},
            "outputs": [],
            "source": "import pandas\nimport ibm_db_dbi"
        },
        {
            "cell_type": "code",
            "execution_count": 13,
            "metadata": {},
            "outputs": [],
            "source": "#connection for pandas\npconn = ibm_db_dbi.Connection(conn)"
        },
        {
            "cell_type": "code",
            "execution_count": 14,
            "metadata": {},
            "outputs": [
                {
                    "data": {
                        "text/plain": "'Ahuja'"
                    },
                    "execution_count": 14,
                    "metadata": {},
                    "output_type": "execute_result"
                }
            ],
            "source": "#query statement to retrieve all rows in INSTRUCTOR table\nselectQuery = \"select * from INSTRUCTOR\"\n\n#retrieve the query results into a pandas dataframe\npdf = pandas.read_sql(selectQuery, pconn)\n\n#print just the LNAME for first row in the pandas data frame\npdf.LNAME[0]"
        },
        {
            "cell_type": "code",
            "execution_count": 15,
            "metadata": {},
            "outputs": [
                {
                    "data": {
                        "text/html": "<div>\n<style scoped>\n    .dataframe tbody tr th:only-of-type {\n        vertical-align: middle;\n    }\n\n    .dataframe tbody tr th {\n        vertical-align: top;\n    }\n\n    .dataframe thead th {\n        text-align: right;\n    }\n</style>\n<table border=\"1\" class=\"dataframe\">\n  <thead>\n    <tr style=\"text-align: right;\">\n      <th></th>\n      <th>ID</th>\n      <th>FNAME</th>\n      <th>LNAME</th>\n      <th>CITY</th>\n      <th>CCODE</th>\n    </tr>\n  </thead>\n  <tbody>\n    <tr>\n      <th>0</th>\n      <td>1</td>\n      <td>Rav</td>\n      <td>Ahuja</td>\n      <td>Moosetown</td>\n      <td>CA</td>\n    </tr>\n    <tr>\n      <th>1</th>\n      <td>2</td>\n      <td>Raul</td>\n      <td>Chong</td>\n      <td>Toronto</td>\n      <td>CA</td>\n    </tr>\n    <tr>\n      <th>2</th>\n      <td>3</td>\n      <td>Hima</td>\n      <td>Vasudevan</td>\n      <td>Chicago</td>\n      <td>US</td>\n    </tr>\n  </tbody>\n</table>\n</div>",
                        "text/plain": "   ID FNAME      LNAME       CITY CCODE\n0   1   Rav      Ahuja  Moosetown    CA\n1   2  Raul      Chong    Toronto    CA\n2   3  Hima  Vasudevan    Chicago    US"
                    },
                    "execution_count": 15,
                    "metadata": {},
                    "output_type": "execute_result"
                }
            ],
            "source": "#print the entire data frame\npdf"
        },
        {
            "cell_type": "markdown",
            "metadata": {},
            "source": "Once the data is in a Pandas dataframe, you can do the typical pandas operations on it. \n\nFor example you can use the shape method to see how many rows and columns are in the dataframe\n"
        },
        {
            "cell_type": "code",
            "execution_count": 16,
            "metadata": {},
            "outputs": [
                {
                    "data": {
                        "text/plain": "(3, 5)"
                    },
                    "execution_count": 16,
                    "metadata": {},
                    "output_type": "execute_result"
                }
            ],
            "source": "pdf.shape"
        },
        {
            "cell_type": "markdown",
            "metadata": {},
            "source": "## Task 8: Close the Connection\n\nWe free all resources by closing the connection. Remember that it is always important to close connections so that we can avoid unused connections taking up resources.\n"
        },
        {
            "cell_type": "code",
            "execution_count": null,
            "metadata": {},
            "outputs": [],
            "source": "ibm_db.close(conn)"
        },
        {
            "cell_type": "markdown",
            "metadata": {},
            "source": "## Summary\n\nIn this tutorial you established a connection to a database instance of DB2 Warehouse on Cloud from a Python notebook using ibm_db API. Then created a table and insert a few rows of data into it. Then queried the data. You also retrieved the data into a pandas dataframe.\n"
        },
        {
            "cell_type": "markdown",
            "metadata": {},
            "source": "## Author\n\n<a href=\"https://www.linkedin.com/in/ravahuja/\" target=\"_blank\">Rav Ahuja</a>\n\n## Change Log\n\n| Date (YYYY-MM-DD) | Version | Changed By | Change Description                 |\n| ----------------- | ------- | ---------- | ---------------------------------- |\n| 2020-08-28        | 2.0     | Lavanya    | Moved lab to course repo in GitLab |\n\n<hr>\n\n## <h3 align=\"center\"> \u00a9 IBM Corporation 2020. All rights reserved. <h3/>\n"
        }
    ],
    "metadata": {
        "kernelspec": {
            "display_name": "Python 3.6",
            "language": "python",
            "name": "python3"
        },
        "language_info": {
            "codemirror_mode": {
                "name": "ipython",
                "version": 3
            },
            "file_extension": ".py",
            "mimetype": "text/x-python",
            "name": "python",
            "nbconvert_exporter": "python",
            "pygments_lexer": "ipython3",
            "version": "3.6.9"
        },
        "widgets": {
            "state": {},
            "version": "1.1.2"
        }
    },
    "nbformat": 4,
    "nbformat_minor": 4
}