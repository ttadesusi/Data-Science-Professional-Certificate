{
 "cells": [
  {
   "cell_type": "markdown",
   "metadata": {},
   "source": [
    "\n",
    "# Connect to MySQL Database Server using Python\n",
    "\n",
    "Estimated time needed: **15** minutes\n",
    "\n",
    "## Objectives\n",
    "\n",
    "After completing this lab you will be able to:\n",
    "\n",
    "-   Import the mysql.connector Python library\n",
    "-   Enter the database connection credentials\n",
    "-   Create MySQL database connection\n",
    "-   Close the database connection\n"
   ]
  },
  {
   "cell_type": "markdown",
   "metadata": {},
   "source": [
    "**Note:** Download and install MySQL from MySQL's official website 'https://dev.mysql.com/downloads/installer/'. During installation, ensure MySQL server and MySQL.Connector/Python are installed in the package.\n",
    "\n",
    "## Import `mysql.connector` Python library\n",
    "\n",
    "`Mysql.connector` [API ](https://pypi.org/project/mysql-connector-python/) provides a variety of useful Python functions for accessing and manipulating data in MySQL server database, including functions for connecting to a database, preparing and issuing SQL statements, fetching rows from result sets, calling stored procedures, committing and rolling back transactions, handling errors, and retrieving metadata.\n",
    "\n",
    "We first import the mysql.connector library into our Python Application\n",
    "\n",
    "Execute the following cell by clicking within it and then \n",
    "press `Shift` and `Enter` keys simultaneously\n"
   ]
  },
  {
   "cell_type": "code",
   "execution_count": 1,
   "metadata": {},
   "outputs": [],
   "source": [
    "import mysql.connector as mysql"
   ]
  },
  {
   "cell_type": "markdown",
   "metadata": {},
   "source": [
    "When the command above completes, `mysql.connector` library is loaded in your notebook. \n",
    "\n",
    "## Identify the database connection credentials\n",
    "\n",
    "Connecting to MySQL database requires the following information:\n",
    "  \n",
    "-   User\n",
    "-   Password\n",
    "-   Host \n",
    "-   Database\n",
    "\n",
    "**Notice:** To obtain the credentias (hostname, username, and database), please refer to your server connection in MySQL Workbench. The database connection credentials are hidden in this notebook. They are stored in the user's environnment variables. Please read more on how to store or hide your credentials like username and password in the user's environment variable\n",
    "\n",
    "Now enter your database connection details below and execute the cell with `Shift` + `Enter`\n"
   ]
  },
  {
   "cell_type": "code",
   "execution_count": 2,
   "metadata": {},
   "outputs": [],
   "source": [
    "# PLEASE MODIFY THE INPUTS - According to your mysql connection credentials and RUN it with Shift + Enter\n",
    "import os \n",
    "\n",
    "user_var = os.environ.get('mysql_username')      # e.g. 'root'\n",
    "password_var = os.environ.get('mysql_password')  # e.g. 'sample-password'\n",
    "host_var = os.environ.get('mysql_hostname')      # e.g. 'localhost'\n",
    "database_var = 'ibm sql lab'                     # e.g  'world' no need to store database name in user's environment variable"
   ]
  },
  {
   "cell_type": "markdown",
   "metadata": {},
   "source": [
    "## Create MySQL database connection\n",
    "\n",
    "Let's establish the connection to the database using the credentials you entered above\n"
   ]
  },
  {
   "cell_type": "code",
   "execution_count": 3,
   "metadata": {},
   "outputs": [
    {
     "name": "stdout",
     "output_type": "stream",
     "text": [
      "<mysql.connector.connection_cext.CMySQLConnection object at 0x000001D711FE6188>\n"
     ]
    }
   ],
   "source": [
    "# DO NOT MODIFY THIS CELL. Just RUN it with Shift + Enter\n",
    "\n",
    "db_conn = mysql.connect(\n",
    "                            user = user_var,         \n",
    "                            password = password_var,  \n",
    "                            host = host_var,         \n",
    "                            database = database_var  \n",
    "                            )\n",
    "print(db_conn)"
   ]
  },
  {
   "cell_type": "markdown",
   "metadata": {},
   "source": [
    "Congratulations if you were able to connect successfuly and you got a non-error output like above. Otherwise use the error statement below to identify the error and try again.\n"
   ]
  },
  {
   "cell_type": "code",
   "execution_count": 4,
   "metadata": {},
   "outputs": [
    {
     "name": "stdout",
     "output_type": "stream",
     "text": [
      "Connected to database: ibm sql lab\n"
     ]
    }
   ],
   "source": [
    "# DO NOT MODIFY THIS CELL. Just RUN it with Shift + Enter\n",
    "\n",
    "from mysql.connector import errorcode\n",
    "\n",
    "try:\n",
    "\n",
    "    db_conn = mysql.connect(\n",
    "                            user = user_var,         \n",
    "                            password = password_var,  \n",
    "                            host = host_var,         \n",
    "                            database = database_var  \n",
    "                            )\n",
    "    print(\"Connected to database: \" + str(database_var))\n",
    "    \n",
    "except mysql.Error as err: \n",
    "    \n",
    "    if err.errno == errorcode.ER_ACCESS_DENIED_ERROR:\n",
    "        print(\"Something is wrong with your user name or password\")\n",
    "            \n",
    "    elif err.errno == errorcode.ER_BAD_DB_ERROR:\n",
    "        print(\"Database does not exist\")\n",
    "            \n",
    "    else:\n",
    "        print(err)"
   ]
  },
  {
   "cell_type": "markdown",
   "metadata": {},
   "source": [
    "After executing the error statement above and you received error output like \"database does not exit\", please use the steps below to retrieve the correct database names you have in your MySQL Database.\n",
    "\n",
    "    1. create an instance of 'cursor()' class which is used to execute the SQL statements in Python\n",
    "    2. use execute()' method is compile a 'SQL' statement e.g 'SHOW DATABASES'\n",
    "    3. use 'fetchall()' method to fetch all the list of all databases present\n",
    "\n"
   ]
  },
  {
   "cell_type": "code",
   "execution_count": 5,
   "metadata": {
    "scrolled": true
   },
   "outputs": [
    {
     "name": "stdout",
     "output_type": "stream",
     "text": [
      "('hr database',)\n",
      "('ibm sql lab',)\n",
      "('information_schema',)\n",
      "('mysql',)\n",
      "('performance_schema',)\n",
      "('sakila',)\n",
      "('sys',)\n",
      "('world',)\n"
     ]
    }
   ],
   "source": [
    "# DO NOT MODIFY THIS CELL. Just RUN it with Shift + Enter\n",
    "\n",
    "cursor = db_conn.cursor()          #To create an instance\n",
    "\n",
    "cursor.execute(\"SHOW DATABASES\")   # To compile the SQL statement \"SHOW DATABASES\"\n",
    "\n",
    "databases = cursor.fetchall()      # To fetch a list of all databases present\n",
    "\n",
    "for database in databases:\n",
    "    print(database)"
   ]
  },
  {
   "cell_type": "markdown",
   "metadata": {},
   "source": [
    "## Close the Connection\n",
    "\n",
    "We free all resources by closing the connection. Remember that it is always important to close connections so that we can avoid unused connections taking up resources.\n"
   ]
  },
  {
   "cell_type": "code",
   "execution_count": 6,
   "metadata": {},
   "outputs": [],
   "source": [
    "db_conn.close()"
   ]
  },
  {
   "cell_type": "markdown",
   "metadata": {},
   "source": [
    "## Summary\n",
    "\n",
    "In this tutorial you have established a connection to MySQL database from a Python notebook using mysql.connection API. \n"
   ]
  },
  {
   "cell_type": "markdown",
   "metadata": {},
   "source": [
    "## Author\n",
    "\n",
    "<a href=\"https://www.linkedin.com/in/ttadesusi\">Temitope Adesusi</a>\n",
    " \n"
   ]
  },
  {
   "cell_type": "markdown",
   "metadata": {},
   "source": [
    "## Reference\n",
    "\n",
    "<a href=\"https://www.coursera.org/professional-certificates/ibm-data-science?\">IBM Data Science</a> \n",
    "\n",
    "<a href=\"https://dev.mysql.com/doc/connector-python/en/connector-python-examples.html\">MySQL Documentation</a> \n",
    "\n",
    "<a href=\"https://www.datacamp.com/community/tutorials/mysql-python?utm_source=adwords_ppc&utm_campaignid=1455363063&utm_adgroupid=65083631748&utm_device=c&utm_keyword=&utm_matchtype=b&utm_network=g&utm_adpostion=&utm_creative=332602034358&utm_targetid=dsa-429603003980&utm_loc_interest_ms=&utm_loc_physical_ms=1010294&gclid=CjwKCAjw5Kv7BRBSEiwAXGDElc63RDm5lkOeJ2qh-B7Ma1zKwsdujvafZTur-1_iyXBgWI7rBJ7iZxoChT4QAvD_BwE\">Data Camp - Getting Started with MySQL in Python</a> \n"
   ]
  }
 ],
 "metadata": {
  "hide_input": false,
  "kernelspec": {
   "display_name": "Python 3",
   "language": "python",
   "name": "python3"
  },
  "language_info": {
   "codemirror_mode": {
    "name": "ipython",
    "version": 3
   },
   "file_extension": ".py",
   "mimetype": "text/x-python",
   "name": "python",
   "nbconvert_exporter": "python",
   "pygments_lexer": "ipython3",
   "version": "3.7.6"
  },
  "toc": {
   "base_numbering": 1,
   "nav_menu": {},
   "number_sections": true,
   "sideBar": true,
   "skip_h1_title": true,
   "title_cell": "Table of Contents",
   "title_sidebar": "Contents",
   "toc_cell": false,
   "toc_position": {
    "height": "calc(100% - 180px)",
    "left": "10px",
    "top": "150px",
    "width": "219.797px"
   },
   "toc_section_display": true,
   "toc_window_display": true
  },
  "widgets": {
   "state": {},
   "version": "1.1.2"
  }
 },
 "nbformat": 4,
 "nbformat_minor": 2
}
