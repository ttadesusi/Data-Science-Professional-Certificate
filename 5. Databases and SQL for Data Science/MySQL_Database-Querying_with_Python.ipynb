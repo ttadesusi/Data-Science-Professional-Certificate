{
 "cells": [
  {
   "cell_type": "markdown",
   "metadata": {},
   "source": [
    "\n",
    "# Access MySQL Database Server using Python\n",
    "\n",
    "## Objectives\n",
    "\n",
    "After completing this lab you will be able to:\n",
    "\n",
    "-   Create a table\n",
    "-   Insert data into the table\n",
    "-   Query data from the table\n",
    "-   Retrieve the result set into a pandas dataframe\n",
    "-   Close the database connection\n"
   ]
  },
  {
   "cell_type": "markdown",
   "metadata": {},
   "source": [
    "**Notice:** Please follow the previous notebook \"MySQL_database_connection_with_Python\" instructions to create a database service instance of MySQL.\n",
    "\n",
    "##  Import `mysql.connector` Python library\n",
    "\n",
    "`mysql.connector` [API ](https://pypi.org/project/mysql-connector-python/) provides a variety of useful Python functions for accessing and manipulating data in MySQL database, including functions for connecting to a database, preparing and issuing SQL statements, fetching rows from result sets, calling stored procedures, committing and rolling back transactions, handling errors, and retrieving metadata.\n",
    "\n",
    "We import the mysql.connector library into our Python Application\n"
   ]
  },
  {
   "cell_type": "code",
   "execution_count": 1,
   "metadata": {},
   "outputs": [],
   "source": [
    "import mysql.connector as mysql"
   ]
  },
  {
   "cell_type": "markdown",
   "metadata": {},
   "source": [
    "When the command above completes, `mysql.connector` library is loaded in your notebook. \n",
    "\n",
    "## Identify the database connection credentials\n",
    "\n",
    "Connecting to MySQL database requires the following information:\n",
    "\n",
    "-   User\n",
    "-   Password\n",
    "-   Host \n",
    "-   Database\n",
    "\n",
    "**Notice:** To obtain credentials please refer to the instructions [how to connect to MySQL database server using Python\n",
    "](https://gist.github.com/ttadesusi/1a6ea219fc0c5549028710c06b82dbd8) \n",
    "\n",
    "Now enter your database credentials below"
   ]
  },
  {
   "cell_type": "code",
   "execution_count": 2,
   "metadata": {},
   "outputs": [],
   "source": [
    "# PLEASE MODIFY THE INPUTS - According to your mysql connection credentials and RUN it with Shift + Enter\n",
    "\n",
    "from dotenv import load_dotenv\n",
    "load_dotenv() \n",
    "\n",
    "import os \n",
    "\n",
    "user_var = os.environ.get('mysql_username')      # e.g. 'root'\n",
    "password_var = os.environ.get('mysql_password')  # e.g. 'sample-password'\n",
    "host_var = os.environ.get('mysql_hostname')      # e.g. 'localhost'\n",
    "database_var = 'ibm_sql_lab'                     # e.g  'world' no need to store database name in user's environment variable"
   ]
  },
  {
   "cell_type": "markdown",
   "metadata": {},
   "source": [
    "## Create the database connection\n",
    "\n",
    "MySQL.Connector provides standards-based drivers for JDBC, ODBC, and .Net enabling developers to build database applications in their language of choice. \n",
    "\n",
    "Create the database connection"
   ]
  },
  {
   "cell_type": "code",
   "execution_count": 3,
   "metadata": {},
   "outputs": [
    {
     "name": "stdout",
     "output_type": "stream",
     "text": [
      "Connected to database: ibm_sql_lab\n"
     ]
    }
   ],
   "source": [
    "# DO NOT MODIFY THIS CELL. Just RUN it with Shift + Enter\n",
    "\n",
    "from mysql.connector import errorcode\n",
    "\n",
    "try:\n",
    "    db_conn = mysql.connect(\n",
    "                            user = user_var,         \n",
    "                            password = password_var,  \n",
    "                            host = host_var,         \n",
    "                            database = database_var  \n",
    "                            )\n",
    "    print(\"Connected to database: \" + str(database_var))\n",
    "    \n",
    "except mysql.Error as err: \n",
    "    \n",
    "    if err.errno == errorcode.ER_ACCESS_DENIED_ERROR:\n",
    "        print(\"Something is wrong with your user name or password\")\n",
    "            \n",
    "    elif err.errno == errorcode.ER_BAD_DB_ERROR:\n",
    "        print(\"Database does not exist\")\n",
    "            \n",
    "    else:\n",
    "        print(err)"
   ]
  },
  {
   "cell_type": "markdown",
   "metadata": {},
   "source": [
    "## Create an instance of 'cursor' class to execute the 'SQL' statements\n",
    "\n",
    "Database cursor is a control structure that enables traversal over the records in a database. Cursors are used to process individual rows returned by database system queries. Cursors enable manipulation of whole result sets at once. \n",
    "\n",
    "Now use database cursors to execute and fetch all databases and tables in ibm sql lab database."
   ]
  },
  {
   "cell_type": "code",
   "execution_count": 4,
   "metadata": {},
   "outputs": [
    {
     "name": "stdout",
     "output_type": "stream",
     "text": [
      "('hr_database',)\n",
      "('ibm_sql_lab',)\n",
      "('information_schema',)\n",
      "('mysql',)\n",
      "('performance_schema',)\n",
      "('sakila',)\n",
      "('sys',)\n",
      "('world',)\n"
     ]
    }
   ],
   "source": [
    "# DO NOT MODIFY THIS CELL. Just RUN it with Shift + Enter\n",
    "\n",
    "# To create an instance\n",
    "cursor = db_conn.cursor()          \n",
    "\n",
    "# To compile the SQL statement \"SHOW DATABASES\"\n",
    "cursor.execute(\"SHOW DATABASES\")   \n",
    "\n",
    "# To fetch a list of all databases present\n",
    "databases = cursor.fetchall() \n",
    "\n",
    "# Show all databases one by one \n",
    "for database in databases:\n",
    "    print(database)"
   ]
  },
  {
   "cell_type": "code",
   "execution_count": 5,
   "metadata": {},
   "outputs": [
    {
     "name": "stdout",
     "output_type": "stream",
     "text": [
      "('instructor',)\n",
      "('petsale',)\n"
     ]
    }
   ],
   "source": [
    "# DO NOT MODIFY THIS CELL. Just RUN it with Shift + Enter\n",
    "\n",
    "# To compile the SQL statement \"SHOW TABLES\"\n",
    "cursor.execute(\"SHOW TABLES\")      \n",
    "\n",
    "# To fetch a list of all tables present\n",
    "tables = cursor.fetchall()        \n",
    "\n",
    "# Show all tables one by one \n",
    "for table in tables:\n",
    "    print(table)"
   ]
  },
  {
   "cell_type": "markdown",
   "metadata": {},
   "source": [
    "## Create a table in the database\n",
    "\n",
    "In this step we will create a table in the database with following details:\n",
    "\n",
    "<img src = \"https://ibm.box.com/shared/static/ztd2cn4xkdoj5erlk4hhng39kbp63s1h.jpg\" align=\"center\">\n"
   ]
  },
  {
   "cell_type": "code",
   "execution_count": 6,
   "metadata": {
    "scrolled": true
   },
   "outputs": [],
   "source": [
    "# Lets first drop the table INSTRUCTOR in case it exists from a previous attempt\n",
    "dropQuery = \"drop table INSTRUCTOR\"\n",
    "\n",
    "#Now execute the drop statment\n",
    "dropStmt = cursor.execute(dropQuery)"
   ]
  },
  {
   "cell_type": "markdown",
   "metadata": {},
   "source": [
    "Dont worry if you get this error:\n",
    "\n",
    "If you see an error similar to the following, indicating an unknown table 'ibm sql lab.instructor', that's okay. It just implies that the INSTRUCTOR table does not exist in the table - which would be the case if you had not created it previously."
   ]
  },
  {
   "cell_type": "code",
   "execution_count": 7,
   "metadata": {
    "hide_input": false
   },
   "outputs": [],
   "source": [
    "# Construct the Create Table DDL statement\n",
    "createQuery = ( \"CREATE TABLE instructor\"\n",
    "                                        \"(ID INTEGER PRIMARY KEY NOT NULL,\"\n",
    "                                        \"FNAME VARCHAR(20),\"\n",
    "                                        \"LNAME VARCHAR(20),\"\n",
    "                                        \"CITY VARCHAR(20),\" \n",
    "                                        \"CCODE CHARACTER(2))\"\n",
    "              )\n",
    "\n",
    "# Now fill in the name of the method and execute the statement\n",
    "createStmt = cursor.execute(createQuery)"
   ]
  },
  {
   "cell_type": "markdown",
   "metadata": {},
   "source": [
    "##  Insert data into the table\n",
    "\n",
    "In this step we will insert some rows of data into the table. \n",
    "\n",
    "The INSTRUCTOR table we created in the previous step contains 3 rows of data:\n",
    "\n",
    "<img src=\"https://ibm.box.com/shared/static/j5yjassxefrjknivfpekj7698dqe4d8i.jpg\" align=\"center\">\n",
    "\n",
    "We will start by inserting just the first row of data, i.e. for instructor Rav Ahuja \n"
   ]
  },
  {
   "cell_type": "code",
   "execution_count": 8,
   "metadata": {},
   "outputs": [],
   "source": [
    "# Construct the insert query \n",
    "insertQuery = (\"INSERT INTO instructor (id, fname, lname, city, ccode)\"\n",
    "                                \"VALUES(1, 'Rav', 'Ahuja', 'Toronto', 'CA')\"\n",
    "              )\n",
    "\n",
    "#execute the insert statement\n",
    "insertStmt = cursor.execute(insertQuery)\n",
    "\n",
    "# commit the inserted values to the database\n",
    "db_conn.commit()"
   ]
  },
  {
   "cell_type": "markdown",
   "metadata": {},
   "source": [
    "Another method that can be used to insert values into the table is by having a varable name called values containing VALUES data and running cursor.execute(query, values).\n",
    "\n",
    "To insert more than one row, use cursor.executemany(query,values)\n",
    "\n",
    "Now use cursor.executemany to insert the remaining two row."
   ]
  },
  {
   "cell_type": "code",
   "execution_count": 9,
   "metadata": {},
   "outputs": [],
   "source": [
    "# Insert statement that inerts the remaining two rows of data\n",
    "insertQuery2 = (\"INSERT INTO instructor VALUES (%s, %s, %s, %s, %s)\")\n",
    "values = [(2, 'Raul', 'Chong', 'Toronto', 'CA'), (3, 'Hima', 'Vasudevan', 'Chicago', 'US')]\n",
    "\n",
    "#execute the statement\n",
    "insertStmt2 = cursor.executemany(insertQuery2, values)\n",
    "\n",
    "# commit the inserted values to the database\n",
    "db_conn.commit()"
   ]
  },
  {
   "cell_type": "markdown",
   "metadata": {},
   "source": [
    "## Query data in the table\n",
    "\n",
    "In this step we will retrieve data we inserted into the INSTRUCTOR table. \n"
   ]
  },
  {
   "cell_type": "code",
   "execution_count": 10,
   "metadata": {},
   "outputs": [
    {
     "name": "stdout",
     "output_type": "stream",
     "text": [
      "[(1, 'Rav', 'Ahuja', 'Toronto', 'CA'), (2, 'Raul', 'Chong', 'Toronto', 'CA'), (3, 'Hima', 'Vasudevan', 'Chicago', 'US')]\n",
      "\n",
      "(1, 'Rav', 'Ahuja', 'Toronto', 'CA')\n"
     ]
    }
   ],
   "source": [
    "# Construct the query that retrieves all rows from the INSTRUCTOR table\n",
    "selectQuery = \"SELECT * FROM instructor\"\n",
    "\n",
    "# Execute the statement\n",
    "selectStmt = cursor.execute(selectQuery)\n",
    "\n",
    "# Fetch the rows in instructor table\n",
    "instructor_table = cursor.fetchall()\n",
    "print(instructor_table)\n",
    "\n",
    "print() # Insert space between the two outputs\n",
    "\n",
    "# Fetch the first rows in instructor table\n",
    "print(instructor_table[0])"
   ]
  },
  {
   "cell_type": "markdown",
   "metadata": {},
   "source": [
    "Bonus: now write and execute an update statement that changes the Rav's CITY to MOOSETOWN \n"
   ]
  },
  {
   "cell_type": "markdown",
   "metadata": {},
   "source": [
    "## Update data in the table\n",
    "\n",
    "Write and execute an update statement that changes the Rav's CITY to MOOSETOWN "
   ]
  },
  {
   "cell_type": "code",
   "execution_count": 11,
   "metadata": {},
   "outputs": [
    {
     "name": "stdout",
     "output_type": "stream",
     "text": [
      "(1, 'Rav', 'Ahuja', 'Moosetown', 'CA')\n"
     ]
    }
   ],
   "source": [
    "# Construct the update statement\n",
    "updateQuery = \"UPDATE instructor SET city = 'Moosetown' WHERE fname = 'Rav'\"\n",
    "\n",
    "# Execute the update statement\n",
    "updateStmt = cursor.execute(updateQuery)\n",
    "\n",
    "# Commit the the update data to the database\n",
    "db_conn.commit()\n",
    "\n",
    "# Fetch and print result of the update statement\n",
    "selectStmt = cursor.execute(selectQuery)\n",
    "instructor_table = cursor.fetchall()\n",
    "print(instructor_table[0])"
   ]
  },
  {
   "cell_type": "markdown",
   "metadata": {},
   "source": [
    "## Task 7: Retrieve data into Pandas\n",
    "\n",
    "In this step we will retrieve the contents of the INSTRUCTOR table into a Pandas dataframe\n"
   ]
  },
  {
   "cell_type": "code",
   "execution_count": 12,
   "metadata": {},
   "outputs": [],
   "source": [
    "import pandas as pd "
   ]
  },
  {
   "cell_type": "code",
   "execution_count": 13,
   "metadata": {},
   "outputs": [
    {
     "data": {
      "text/html": [
       "<div>\n",
       "<style scoped>\n",
       "    .dataframe tbody tr th:only-of-type {\n",
       "        vertical-align: middle;\n",
       "    }\n",
       "\n",
       "    .dataframe tbody tr th {\n",
       "        vertical-align: top;\n",
       "    }\n",
       "\n",
       "    .dataframe thead th {\n",
       "        text-align: right;\n",
       "    }\n",
       "</style>\n",
       "<table border=\"1\" class=\"dataframe\">\n",
       "  <thead>\n",
       "    <tr style=\"text-align: right;\">\n",
       "      <th></th>\n",
       "      <th>ID</th>\n",
       "      <th>FNAME</th>\n",
       "      <th>LNAME</th>\n",
       "      <th>CITY</th>\n",
       "      <th>CCODE</th>\n",
       "    </tr>\n",
       "  </thead>\n",
       "  <tbody>\n",
       "    <tr>\n",
       "      <th>0</th>\n",
       "      <td>1</td>\n",
       "      <td>Rav</td>\n",
       "      <td>Ahuja</td>\n",
       "      <td>Moosetown</td>\n",
       "      <td>CA</td>\n",
       "    </tr>\n",
       "    <tr>\n",
       "      <th>1</th>\n",
       "      <td>2</td>\n",
       "      <td>Raul</td>\n",
       "      <td>Chong</td>\n",
       "      <td>Toronto</td>\n",
       "      <td>CA</td>\n",
       "    </tr>\n",
       "    <tr>\n",
       "      <th>2</th>\n",
       "      <td>3</td>\n",
       "      <td>Hima</td>\n",
       "      <td>Vasudevan</td>\n",
       "      <td>Chicago</td>\n",
       "      <td>US</td>\n",
       "    </tr>\n",
       "  </tbody>\n",
       "</table>\n",
       "</div>"
      ],
      "text/plain": [
       "   ID FNAME      LNAME       CITY CCODE\n",
       "0   1   Rav      Ahuja  Moosetown    CA\n",
       "1   2  Raul      Chong    Toronto    CA\n",
       "2   3  Hima  Vasudevan    Chicago    US"
      ]
     },
     "execution_count": 13,
     "metadata": {},
     "output_type": "execute_result"
    }
   ],
   "source": [
    "# Query statement to retrieve all rows in INSTRUCTOR table\n",
    "selectQuery = \"select * from INSTRUCTOR\"\n",
    "\n",
    "# Retrieve the query results into a pandas dataframe\n",
    "instructor_df = pd.read_sql(selectQuery, db_conn)\n",
    "\n",
    "#print the entire data frame\n",
    "instructor_df"
   ]
  },
  {
   "cell_type": "code",
   "execution_count": 14,
   "metadata": {},
   "outputs": [
    {
     "name": "stdout",
     "output_type": "stream",
     "text": [
      "Ahuja\n"
     ]
    }
   ],
   "source": [
    "#print just the LNAME for first row in the pandas data frame\n",
    "print(instructor_df.LNAME[0])"
   ]
  },
  {
   "cell_type": "markdown",
   "metadata": {},
   "source": [
    "Once the data is in a Pandas dataframe, you can do the typical pandas operations on it. \n",
    "\n",
    "For example you can use the shape method to see how many rows and columns are in the dataframe\n"
   ]
  },
  {
   "cell_type": "code",
   "execution_count": 15,
   "metadata": {},
   "outputs": [
    {
     "data": {
      "text/plain": [
       "(3, 5)"
      ]
     },
     "execution_count": 15,
     "metadata": {},
     "output_type": "execute_result"
    }
   ],
   "source": [
    "instructor_df.shape"
   ]
  },
  {
   "cell_type": "markdown",
   "metadata": {},
   "source": [
    "## Task 8: Close the Connection\n",
    "\n",
    "We free all resources by closing the connection. Remember that it is always important to close connections so that we can avoid unused connections taking up resources.\n"
   ]
  },
  {
   "cell_type": "code",
   "execution_count": 16,
   "metadata": {},
   "outputs": [
    {
     "data": {
      "text/plain": [
       "<bound method CMySQLConnection.close of <mysql.connector.connection_cext.CMySQLConnection object at 0x000002DD9112C6C8>>"
      ]
     },
     "execution_count": 16,
     "metadata": {},
     "output_type": "execute_result"
    }
   ],
   "source": [
    "db_conn.close"
   ]
  },
  {
   "cell_type": "markdown",
   "metadata": {},
   "source": [
    "## Author\n",
    "\n",
    "<a href=\"https://www.linkedin.com/in/ttadesusi\">Temitope Adesusi</a>\n",
    " "
   ]
  },
  {
   "cell_type": "markdown",
   "metadata": {},
   "source": [
    "## Reference\n",
    "\n",
    "<a href=\"https://www.coursera.org/professional-certificates/ibm-data-science?\">IBM Data Science</a> \n",
    "\n",
    "<a href=\"https://dev.mysql.com/doc/connector-python/en/connector-python-examples.html\">MySQL Documentation</a> \n",
    "\n",
    "<a href=\"https://www.datacamp.com/community/tutorials/mysql-python?utm_source=adwords_ppc&utm_campaignid=1455363063&utm_adgroupid=65083631748&utm_device=c&utm_keyword=&utm_matchtype=b&utm_network=g&utm_adpostion=&utm_creative=332602034358&utm_targetid=dsa-429603003980&utm_loc_interest_ms=&utm_loc_physical_ms=1010294&gclid=CjwKCAjw5Kv7BRBSEiwAXGDElc63RDm5lkOeJ2qh-B7Ma1zKwsdujvafZTur-1_iyXBgWI7rBJ7iZxoChT4QAvD_BwE\">Data Camp - Getting Started with MySQL in Python</a> \n"
   ]
  }
 ],
 "metadata": {
  "gist": {
   "data": {
    "description": "Access MySQL Database Server using Python",
    "public": true
   },
   "id": ""
  },
  "hide_input": false,
  "kernelspec": {
   "display_name": "Python 3",
   "language": "python",
   "name": "python3"
  },
  "language_info": {
   "codemirror_mode": {
    "name": "ipython",
    "version": 3
   },
   "file_extension": ".py",
   "mimetype": "text/x-python",
   "name": "python",
   "nbconvert_exporter": "python",
   "pygments_lexer": "ipython3",
   "version": "3.7.6"
  },
  "toc": {
   "base_numbering": 1,
   "nav_menu": {},
   "number_sections": true,
   "sideBar": true,
   "skip_h1_title": true,
   "title_cell": "Table of Contents",
   "title_sidebar": "Contents",
   "toc_cell": false,
   "toc_position": {},
   "toc_section_display": true,
   "toc_window_display": true
  },
  "widgets": {
   "state": {},
   "version": "1.1.2"
  }
 },
 "nbformat": 4,
 "nbformat_minor": 4
}
